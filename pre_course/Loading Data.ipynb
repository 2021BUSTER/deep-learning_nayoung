{
 "cells": [
  {
   "cell_type": "markdown",
   "id": "9988422e",
   "metadata": {},
   "source": [
    "### Minibatch Gradient Descent  \n",
    ": 전체 데이터를 작은 양으로 균일하게 나눠 minibatch 하나씩 학습하는 방법  \n",
    "=> 컴퓨터가 각 minibatch에 있는 데이터의 cost만 계산한 후에 gradient descent 수행\n",
    "- 업데이트를 좀 더 빠르게 할 수 있다\n",
    "- cost 계산 시 전체 데이터를 쓰지 않아서 잘못된 방향으로 학습할 수도 있다 (gradient descnet가 거칠게 줄어들 수 있음)"
   ]
  },
  {
   "cell_type": "markdown",
   "id": "f42bead7",
   "metadata": {},
   "source": [
    "## PyTorch Dataset"
   ]
  },
  {
   "cell_type": "code",
   "execution_count": 2,
   "id": "7927a36e",
   "metadata": {},
   "outputs": [],
   "source": [
    "from torch.utils.data import Dataset\n",
    "\n",
    "class CustomDataset(Dataset):\n",
    "    def __init__(self):\n",
    "        self.x_data = [[73,80,75],\n",
    "                        [93,88,93],\n",
    "                        [89,91,80],\n",
    "                        [96,98,100],\n",
    "                        [73,66,70]]\n",
    "        self.y_data = [[152],[185],[180],[196],[142]]\n",
    "        \n",
    "    # 이 데이터셋의 총 데이터 수 반환    \n",
    "    def __len__(self):\n",
    "        return len(self.x_data)\n",
    "    \n",
    "    # 어떤 인덱스를 입력받았을 때 그에 상응하는 입출력 데이터 반환\n",
    "    def __getitem__(self, idx):\n",
    "        x = torch.FloatTensor(self.x_data[idx])\n",
    "        y = torch.FloatTensor(self.y_data[idx])\n",
    "        \n",
    "        return x, y\n",
    "    \n",
    "dataset = CustomDataset()"
   ]
  },
  {
   "cell_type": "markdown",
   "id": "7065a731",
   "metadata": {},
   "source": [
    "## PyTorch DataLoader\n",
    "**batch_size = 2**  \n",
    "- 각 minibatch의 크기\n",
    "- 통상적으로 2의 제곱수로 설정  \n",
    "\n",
    "**shuggle=True**  \n",
    "- epoch마다 데이터셋을 섞어, 데이터가 학습되는 순서를 바꿈\n",
    "=> 모델이 데이터셋의 순서를 외우는 것 방지 가능"
   ]
  },
  {
   "cell_type": "code",
   "execution_count": 3,
   "id": "3caae1e8",
   "metadata": {},
   "outputs": [],
   "source": [
    "from torch.utils.data import DataLoader\n",
    "\n",
    "dataloader = DataLoader(\n",
    "    dataset,\n",
    "    batch_size = 2,\n",
    "    shuffle = True,\n",
    ")"
   ]
  },
  {
   "cell_type": "markdown",
   "id": "098d7c6d",
   "metadata": {},
   "source": [
    "## Full Code with Dataset and DataLoader\n",
    "enumerate(dataloader) : minibatch 인덱스와 데이터를 받음  \n",
    "len(datalodader) : 한 epoch당 minibatch 개수"
   ]
  },
  {
   "cell_type": "code",
   "execution_count": 9,
   "id": "4ae774e3",
   "metadata": {},
   "outputs": [
    {
     "name": "stdout",
     "output_type": "stream",
     "text": [
      "Epoch    0/20 Batch: 1/3, Cost: 14663.978516\n",
      "Epoch    0/20 Batch: 2/3, Cost: 11277.992188\n",
      "Epoch    0/20 Batch: 3/3, Cost: 2729.493164\n",
      "Epoch    1/20 Batch: 1/3, Cost: 441.273621\n",
      "Epoch    1/20 Batch: 2/3, Cost: 150.714554\n",
      "Epoch    1/20 Batch: 3/3, Cost: 192.436447\n",
      "Epoch    2/20 Batch: 1/3, Cost: 1.705238\n",
      "Epoch    2/20 Batch: 2/3, Cost: 26.664827\n",
      "Epoch    2/20 Batch: 3/3, Cost: 0.216577\n",
      "Epoch    3/20 Batch: 1/3, Cost: 0.217702\n",
      "Epoch    3/20 Batch: 2/3, Cost: 21.041777\n",
      "Epoch    3/20 Batch: 3/3, Cost: 3.300607\n",
      "Epoch    4/20 Batch: 1/3, Cost: 18.668602\n",
      "Epoch    4/20 Batch: 2/3, Cost: 6.885032\n",
      "Epoch    4/20 Batch: 3/3, Cost: 0.191099\n",
      "Epoch    5/20 Batch: 1/3, Cost: 2.723767\n",
      "Epoch    5/20 Batch: 2/3, Cost: 22.780983\n",
      "Epoch    5/20 Batch: 3/3, Cost: 0.000135\n",
      "Epoch    6/20 Batch: 1/3, Cost: 5.098173\n",
      "Epoch    6/20 Batch: 2/3, Cost: 19.305616\n",
      "Epoch    6/20 Batch: 3/3, Cost: 1.968023\n",
      "Epoch    7/20 Batch: 1/3, Cost: 15.794948\n",
      "Epoch    7/20 Batch: 2/3, Cost: 5.705020\n",
      "Epoch    7/20 Batch: 3/3, Cost: 10.050920\n",
      "Epoch    8/20 Batch: 1/3, Cost: 1.143702\n",
      "Epoch    8/20 Batch: 2/3, Cost: 25.295986\n",
      "Epoch    8/20 Batch: 3/3, Cost: 0.043001\n",
      "Epoch    9/20 Batch: 1/3, Cost: 0.366886\n",
      "Epoch    9/20 Batch: 2/3, Cost: 5.009591\n",
      "Epoch    9/20 Batch: 3/3, Cost: 44.155067\n",
      "Epoch   10/20 Batch: 1/3, Cost: 4.653994\n",
      "Epoch   10/20 Batch: 2/3, Cost: 11.136518\n",
      "Epoch   10/20 Batch: 3/3, Cost: 36.523373\n",
      "Epoch   11/20 Batch: 1/3, Cost: 10.926531\n",
      "Epoch   11/20 Batch: 2/3, Cost: 7.275197\n",
      "Epoch   11/20 Batch: 3/3, Cost: 33.407326\n",
      "Epoch   12/20 Batch: 1/3, Cost: 20.649176\n",
      "Epoch   12/20 Batch: 2/3, Cost: 15.772195\n",
      "Epoch   12/20 Batch: 3/3, Cost: 0.381241\n",
      "Epoch   13/20 Batch: 1/3, Cost: 2.694131\n",
      "Epoch   13/20 Batch: 2/3, Cost: 18.851456\n",
      "Epoch   13/20 Batch: 3/3, Cost: 2.032330\n",
      "Epoch   14/20 Batch: 1/3, Cost: 1.212498\n",
      "Epoch   14/20 Batch: 2/3, Cost: 3.373442\n",
      "Epoch   14/20 Batch: 3/3, Cost: 43.036770\n",
      "Epoch   15/20 Batch: 1/3, Cost: 13.593905\n",
      "Epoch   15/20 Batch: 2/3, Cost: 2.473391\n",
      "Epoch   15/20 Batch: 3/3, Cost: 33.253517\n",
      "Epoch   16/20 Batch: 1/3, Cost: 21.802132\n",
      "Epoch   16/20 Batch: 2/3, Cost: 13.950105\n",
      "Epoch   16/20 Batch: 3/3, Cost: 4.957649\n",
      "Epoch   17/20 Batch: 1/3, Cost: 5.391570\n",
      "Epoch   17/20 Batch: 2/3, Cost: 18.546238\n",
      "Epoch   17/20 Batch: 3/3, Cost: 1.962034\n",
      "Epoch   18/20 Batch: 1/3, Cost: 1.216344\n",
      "Epoch   18/20 Batch: 2/3, Cost: 16.793318\n",
      "Epoch   18/20 Batch: 3/3, Cost: 15.251518\n",
      "Epoch   19/20 Batch: 1/3, Cost: 0.678823\n",
      "Epoch   19/20 Batch: 2/3, Cost: 20.037378\n",
      "Epoch   19/20 Batch: 3/3, Cost: 11.471208\n",
      "Epoch   20/20 Batch: 1/3, Cost: 1.131275\n",
      "Epoch   20/20 Batch: 2/3, Cost: 1.892835\n",
      "Epoch   20/20 Batch: 3/3, Cost: 44.290836\n"
     ]
    }
   ],
   "source": [
    "import torch\n",
    "import torch.nn.functional as F\n",
    "\n",
    "import torch.nn as nn\n",
    "\n",
    "class MultivariateLinearRegressionModel(nn.Module):\n",
    "    def __init__(self):\n",
    "        super().__init__()\n",
    "        self.linear = nn.Linear(3, 1) # 입력차원 3, 출력차원 1\n",
    "    \n",
    "    # hypothesis 계산은 forward()에서. Gradient 계산은 backward()에서 알아서 해줌\n",
    "    def forward(self, x): \n",
    "        return self.linear(x)\n",
    "\n",
    "model = MultivariateLinearRegressionModel()\n",
    "optimizer = torch.optim.SGD(model.parameters(), lr=1e-5)\n",
    "\n",
    "nb_epochs = 20\n",
    "for epoch in range(nb_epochs + 1):\n",
    "    for batch_idx, samples in enumerate(dataloader):\n",
    "        x_train, y_train = samples\n",
    "        \n",
    "        prediction = model(x_train)\n",
    "    \n",
    "        cost = F.mse_loss(prediction, y_train)\n",
    "    \n",
    "        optimizer.zero_grad()\n",
    "        cost.backward()\n",
    "        optimizer.step()\n",
    "    \n",
    "        print('Epoch {:4d}/{} Batch: {}/{}, Cost: {:.6f}'.format(\n",
    "            epoch,nb_epochs,batch_idx+1, len(dataloader), cost.item()\n",
    "        ))"
   ]
  },
  {
   "cell_type": "code",
   "execution_count": null,
   "id": "818c1f16",
   "metadata": {},
   "outputs": [],
   "source": []
  }
 ],
 "metadata": {
  "kernelspec": {
   "display_name": "Python 3",
   "language": "python",
   "name": "python3"
  },
  "language_info": {
   "codemirror_mode": {
    "name": "ipython",
    "version": 3
   },
   "file_extension": ".py",
   "mimetype": "text/x-python",
   "name": "python",
   "nbconvert_exporter": "python",
   "pygments_lexer": "ipython3",
   "version": "3.8.10"
  }
 },
 "nbformat": 4,
 "nbformat_minor": 5
}
