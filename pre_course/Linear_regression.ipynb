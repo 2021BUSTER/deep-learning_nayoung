{
 "cells": [
  {
   "cell_type": "code",
   "execution_count": 1,
   "id": "6555c54b",
   "metadata": {},
   "outputs": [],
   "source": [
    "import torch"
   ]
  },
  {
   "cell_type": "markdown",
   "id": "7dccc701",
   "metadata": {},
   "source": [
    "한번만\n",
    "1. 데이터 정의 \n",
    "2. Hypothesis 초기화 (W, b 초기화) \n",
    "3. Optimizer 정의 \n",
    "\n",
    "반복\n",
    "1. Hypothesis 예측 \n",
    "2. Cost 계산 (예측값과 y갑의 차이를 이용해 계산) \n",
    "3. Optimizer로 학습 (계산한 gradient 이용) \n",
    "\n",
    "=> W와 b가 각각 하나의 숫자로 수렴하게 됨"
   ]
  },
  {
   "cell_type": "code",
   "execution_count": 2,
   "id": "39f848bb",
   "metadata": {},
   "outputs": [],
   "source": [
    "x_train = torch.FloatTensor([[1],[2],[3]])\n",
    "y_train = torch.FloatTensor([[2],[4],[6]])"
   ]
  },
  {
   "cell_type": "markdown",
   "id": "c609cd51",
   "metadata": {},
   "source": [
    "- Weight와 Bias 0으로 초기화 -> 어떤 입력을 받아도 항상 출력 0을 예측\n",
    "- requires_grad=True -> 학습할 것이라고 명시"
   ]
  },
  {
   "cell_type": "code",
   "execution_count": 3,
   "id": "8b70e80e",
   "metadata": {},
   "outputs": [],
   "source": [
    "W = torch.zeros(1, requires_grad=True)\n",
    "b = torch.zeros(1, requires_grad=True)"
   ]
  },
  {
   "cell_type": "markdown",
   "id": "f4947f5b",
   "metadata": {},
   "source": [
    "**compute loss**\n",
    "- torch.mean으로 평균 계산 -> Mean Squared Error(MSE) 값 구하기"
   ]
  },
  {
   "cell_type": "markdown",
   "id": "b7aa2fd9",
   "metadata": {},
   "source": [
    "**경사하강법 (Gradient descent)**\n",
    "- 계산한 loss를 이용해 model 개선\n",
    "\n",
    "- zero_grad()로 gradient 초기화\n",
    "- backward()로 gradient 계산\n",
    "- step()으로 계산된 gradient를 방향대로 W, b계산"
   ]
  },
  {
   "cell_type": "code",
   "execution_count": 4,
   "id": "3d8fdb37",
   "metadata": {},
   "outputs": [],
   "source": [
    "optimizer = torch.optim.SGD([W, b], lr=0.01)\n",
    "\n",
    "nb_epochs = 1000\n",
    "for epoch in range(1, nb_epochs + 1):\n",
    "    hypothesis = x_train * W + b\n",
    "    cost = torch.mean((hypothesis-y_train)**2)\n",
    "    \n",
    "    optimizer.zero_grad()\n",
    "    cost.backward()\n",
    "    optimizer.step()"
   ]
  },
  {
   "cell_type": "code",
   "execution_count": 5,
   "id": "3ff7f909",
   "metadata": {},
   "outputs": [
    {
     "name": "stdout",
     "output_type": "stream",
     "text": [
      "tensor([1.9708], requires_grad=True) tensor([0.0664], requires_grad=True)\n"
     ]
    }
   ],
   "source": [
    "print(W, b)"
   ]
  },
  {
   "cell_type": "code",
   "execution_count": 6,
   "id": "12b5b107",
   "metadata": {},
   "outputs": [
    {
     "data": {
      "text/plain": [
       "tensor([11.8911], grad_fn=<AddBackward0>)"
      ]
     },
     "execution_count": 6,
     "metadata": {},
     "output_type": "execute_result"
    }
   ],
   "source": [
    "6*W + b"
   ]
  },
  {
   "cell_type": "code",
   "execution_count": null,
   "id": "18a24325",
   "metadata": {},
   "outputs": [],
   "source": []
  }
 ],
 "metadata": {
  "kernelspec": {
   "display_name": "Python 3",
   "language": "python",
   "name": "python3"
  },
  "language_info": {
   "codemirror_mode": {
    "name": "ipython",
    "version": 3
   },
   "file_extension": ".py",
   "mimetype": "text/x-python",
   "name": "python",
   "nbconvert_exporter": "python",
   "pygments_lexer": "ipython3",
   "version": "3.8.10"
  }
 },
 "nbformat": 4,
 "nbformat_minor": 5
}
